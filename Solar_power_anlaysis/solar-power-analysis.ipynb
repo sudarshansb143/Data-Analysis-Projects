{
 "cells": [
  {
   "cell_type": "code",
   "execution_count": 1,
   "metadata": {
    "_cell_guid": "b1076dfc-b9ad-4769-8c92-a6c4dae69d19",
    "_uuid": "8f2839f25d086af736a60e9eeb907d3b93b6e0e5"
   },
   "outputs": [],
   "source": [
    "import pandas as pd\n",
    "import numpy as np\n",
    "import matplotlib.pyplot as plt\n",
    "import seaborn as sns\n",
    "import warnings as ws\n",
    "ws.filterwarnings(\"ignore\")"
   ]
  },
  {
   "cell_type": "code",
   "execution_count": 2,
   "metadata": {
    "_cell_guid": "79c7e3d0-c299-4dcb-8224-4455121ee9b0",
    "_uuid": "d629ff2d2480ee46fbb7e2d37f6b5fab8052498a"
   },
   "outputs": [],
   "source": [
    "import pandas as pd\n",
    "weather = pd.read_csv('/kaggle/input/weather-dataset-in-antwerp-belgium/weather_in_Antwerp.csv', ';')"
   ]
  },
  {
   "cell_type": "code",
   "execution_count": 3,
   "metadata": {},
   "outputs": [
    {
     "data": {
      "text/html": [
       "<div>\n",
       "<style scoped>\n",
       "    .dataframe tbody tr th:only-of-type {\n",
       "        vertical-align: middle;\n",
       "    }\n",
       "\n",
       "    .dataframe tbody tr th {\n",
       "        vertical-align: top;\n",
       "    }\n",
       "\n",
       "    .dataframe thead th {\n",
       "        text-align: right;\n",
       "    }\n",
       "</style>\n",
       "<table border=\"1\" class=\"dataframe\">\n",
       "  <thead>\n",
       "    <tr style=\"text-align: right;\">\n",
       "      <th></th>\n",
       "      <th>clock</th>\n",
       "      <th>temp</th>\n",
       "      <th>weather</th>\n",
       "      <th>wind</th>\n",
       "      <th>humidity</th>\n",
       "      <th>barometer</th>\n",
       "      <th>visibility</th>\n",
       "      <th>year</th>\n",
       "      <th>month</th>\n",
       "      <th>day</th>\n",
       "    </tr>\n",
       "  </thead>\n",
       "  <tbody>\n",
       "    <tr>\n",
       "      <th>0</th>\n",
       "      <td>00:20</td>\n",
       "      <td>11.0</td>\n",
       "      <td>Mostly cloudy.</td>\n",
       "      <td>17.0</td>\n",
       "      <td>94.0</td>\n",
       "      <td>1011.0</td>\n",
       "      <td>5.0</td>\n",
       "      <td>2012</td>\n",
       "      <td>1</td>\n",
       "      <td>1</td>\n",
       "    </tr>\n",
       "    <tr>\n",
       "      <th>1</th>\n",
       "      <td>00:50</td>\n",
       "      <td>12.0</td>\n",
       "      <td>Mostly cloudy.</td>\n",
       "      <td>17.0</td>\n",
       "      <td>88.0</td>\n",
       "      <td>1011.0</td>\n",
       "      <td>NaN</td>\n",
       "      <td>2012</td>\n",
       "      <td>1</td>\n",
       "      <td>1</td>\n",
       "    </tr>\n",
       "    <tr>\n",
       "      <th>2</th>\n",
       "      <td>01:50</td>\n",
       "      <td>12.0</td>\n",
       "      <td>Overcast.</td>\n",
       "      <td>19.0</td>\n",
       "      <td>88.0</td>\n",
       "      <td>1011.0</td>\n",
       "      <td>9.0</td>\n",
       "      <td>2012</td>\n",
       "      <td>1</td>\n",
       "      <td>1</td>\n",
       "    </tr>\n",
       "    <tr>\n",
       "      <th>3</th>\n",
       "      <td>02:20</td>\n",
       "      <td>12.0</td>\n",
       "      <td>Partly cloudy.</td>\n",
       "      <td>17.0</td>\n",
       "      <td>88.0</td>\n",
       "      <td>1010.0</td>\n",
       "      <td>NaN</td>\n",
       "      <td>2012</td>\n",
       "      <td>1</td>\n",
       "      <td>1</td>\n",
       "    </tr>\n",
       "    <tr>\n",
       "      <th>4</th>\n",
       "      <td>02:50</td>\n",
       "      <td>12.0</td>\n",
       "      <td>Sprinkles. Mostly cloudy.</td>\n",
       "      <td>15.0</td>\n",
       "      <td>88.0</td>\n",
       "      <td>1010.0</td>\n",
       "      <td>NaN</td>\n",
       "      <td>2012</td>\n",
       "      <td>1</td>\n",
       "      <td>1</td>\n",
       "    </tr>\n",
       "  </tbody>\n",
       "</table>\n",
       "</div>"
      ],
      "text/plain": [
       "   clock  temp                    weather  wind  humidity  barometer  \\\n",
       "0  00:20  11.0             Mostly cloudy.  17.0      94.0     1011.0   \n",
       "1  00:50  12.0             Mostly cloudy.  17.0      88.0     1011.0   \n",
       "2  01:50  12.0                  Overcast.  19.0      88.0     1011.0   \n",
       "3  02:20  12.0             Partly cloudy.  17.0      88.0     1010.0   \n",
       "4  02:50  12.0  Sprinkles. Mostly cloudy.  15.0      88.0     1010.0   \n",
       "\n",
       "   visibility  year  month  day  \n",
       "0         5.0  2012      1    1  \n",
       "1         NaN  2012      1    1  \n",
       "2         9.0  2012      1    1  \n",
       "3         NaN  2012      1    1  \n",
       "4         NaN  2012      1    1  "
      ]
     },
     "execution_count": 3,
     "metadata": {},
     "output_type": "execute_result"
    }
   ],
   "source": [
    "def clear_wind(obj):\n",
    "    if isinstance(obj, str):\n",
    "        if obj == 'No wind':\n",
    "            obj = 0\n",
    "        else:\n",
    "            obj = obj.replace(' km/h', '')\n",
    "    return obj\n",
    "def trans_from_objects(weather):\n",
    "    weather.visibility = weather.visibility.apply(lambda x: x[0:-3] \n",
    "                                                  if isinstance(x, str) else x).astype(float)\n",
    "    weather.barometer = weather.barometer.apply(lambda x: x.replace(' mbar', '') \n",
    "                                                if isinstance(x, str) else x).astype(float)\n",
    "    weather.humidity = weather.humidity.apply(lambda x: x.replace('%', '') \n",
    "                                              if isinstance(x, str) else x).astype(float)\n",
    "    weather.temp = weather.temp.apply(lambda x: x.replace('°C', '') \n",
    "                                      if isinstance(x, str) else x).astype(float)\n",
    "    weather.wind = weather.wind.apply(clear_wind).astype(float)\n",
    "    \n",
    "    return weather\n",
    "\n",
    "#transfer dataframe from objects dtype to numbers\n",
    "weather.drop(['Unnamed: 0'], axis =1, inplace=True)\n",
    "weather = trans_from_objects(weather)\n",
    "weather.head()"
   ]
  },
  {
   "cell_type": "code",
   "execution_count": 4,
   "metadata": {},
   "outputs": [],
   "source": [
    "df = weather"
   ]
  },
  {
   "cell_type": "code",
   "execution_count": 5,
   "metadata": {},
   "outputs": [
    {
     "data": {
      "text/html": [
       "<div>\n",
       "<style scoped>\n",
       "    .dataframe tbody tr th:only-of-type {\n",
       "        vertical-align: middle;\n",
       "    }\n",
       "\n",
       "    .dataframe tbody tr th {\n",
       "        vertical-align: top;\n",
       "    }\n",
       "\n",
       "    .dataframe thead th {\n",
       "        text-align: right;\n",
       "    }\n",
       "</style>\n",
       "<table border=\"1\" class=\"dataframe\">\n",
       "  <thead>\n",
       "    <tr style=\"text-align: right;\">\n",
       "      <th></th>\n",
       "      <th>clock</th>\n",
       "      <th>temp</th>\n",
       "      <th>weather</th>\n",
       "      <th>wind</th>\n",
       "      <th>humidity</th>\n",
       "      <th>barometer</th>\n",
       "      <th>visibility</th>\n",
       "      <th>year</th>\n",
       "      <th>month</th>\n",
       "      <th>day</th>\n",
       "    </tr>\n",
       "  </thead>\n",
       "  <tbody>\n",
       "    <tr>\n",
       "      <th>0</th>\n",
       "      <td>00:20</td>\n",
       "      <td>11.0</td>\n",
       "      <td>Mostly cloudy.</td>\n",
       "      <td>17.0</td>\n",
       "      <td>94.0</td>\n",
       "      <td>1011.0</td>\n",
       "      <td>5.0</td>\n",
       "      <td>2012</td>\n",
       "      <td>1</td>\n",
       "      <td>1</td>\n",
       "    </tr>\n",
       "    <tr>\n",
       "      <th>1</th>\n",
       "      <td>00:50</td>\n",
       "      <td>12.0</td>\n",
       "      <td>Mostly cloudy.</td>\n",
       "      <td>17.0</td>\n",
       "      <td>88.0</td>\n",
       "      <td>1011.0</td>\n",
       "      <td>NaN</td>\n",
       "      <td>2012</td>\n",
       "      <td>1</td>\n",
       "      <td>1</td>\n",
       "    </tr>\n",
       "    <tr>\n",
       "      <th>2</th>\n",
       "      <td>01:50</td>\n",
       "      <td>12.0</td>\n",
       "      <td>Overcast.</td>\n",
       "      <td>19.0</td>\n",
       "      <td>88.0</td>\n",
       "      <td>1011.0</td>\n",
       "      <td>9.0</td>\n",
       "      <td>2012</td>\n",
       "      <td>1</td>\n",
       "      <td>1</td>\n",
       "    </tr>\n",
       "    <tr>\n",
       "      <th>3</th>\n",
       "      <td>02:20</td>\n",
       "      <td>12.0</td>\n",
       "      <td>Partly cloudy.</td>\n",
       "      <td>17.0</td>\n",
       "      <td>88.0</td>\n",
       "      <td>1010.0</td>\n",
       "      <td>NaN</td>\n",
       "      <td>2012</td>\n",
       "      <td>1</td>\n",
       "      <td>1</td>\n",
       "    </tr>\n",
       "    <tr>\n",
       "      <th>4</th>\n",
       "      <td>02:50</td>\n",
       "      <td>12.0</td>\n",
       "      <td>Sprinkles. Mostly cloudy.</td>\n",
       "      <td>15.0</td>\n",
       "      <td>88.0</td>\n",
       "      <td>1010.0</td>\n",
       "      <td>NaN</td>\n",
       "      <td>2012</td>\n",
       "      <td>1</td>\n",
       "      <td>1</td>\n",
       "    </tr>\n",
       "  </tbody>\n",
       "</table>\n",
       "</div>"
      ],
      "text/plain": [
       "   clock  temp                    weather  wind  humidity  barometer  \\\n",
       "0  00:20  11.0             Mostly cloudy.  17.0      94.0     1011.0   \n",
       "1  00:50  12.0             Mostly cloudy.  17.0      88.0     1011.0   \n",
       "2  01:50  12.0                  Overcast.  19.0      88.0     1011.0   \n",
       "3  02:20  12.0             Partly cloudy.  17.0      88.0     1010.0   \n",
       "4  02:50  12.0  Sprinkles. Mostly cloudy.  15.0      88.0     1010.0   \n",
       "\n",
       "   visibility  year  month  day  \n",
       "0         5.0  2012      1    1  \n",
       "1         NaN  2012      1    1  \n",
       "2         9.0  2012      1    1  \n",
       "3         NaN  2012      1    1  \n",
       "4         NaN  2012      1    1  "
      ]
     },
     "execution_count": 5,
     "metadata": {},
     "output_type": "execute_result"
    }
   ],
   "source": [
    "df.head()"
   ]
  },
  {
   "cell_type": "code",
   "execution_count": 6,
   "metadata": {},
   "outputs": [
    {
     "data": {
      "text/plain": [
       "clock          object\n",
       "temp          float64\n",
       "weather        object\n",
       "wind          float64\n",
       "humidity      float64\n",
       "barometer     float64\n",
       "visibility    float64\n",
       "year            int64\n",
       "month           int64\n",
       "day             int64\n",
       "dtype: object"
      ]
     },
     "execution_count": 6,
     "metadata": {},
     "output_type": "execute_result"
    }
   ],
   "source": [
    "df.dtypes"
   ]
  },
  {
   "cell_type": "code",
   "execution_count": 7,
   "metadata": {},
   "outputs": [],
   "source": [
    "df.clock = df.clock.str.replace(\":\", \".\").astype(float)"
   ]
  },
  {
   "cell_type": "code",
   "execution_count": 8,
   "metadata": {},
   "outputs": [
    {
     "data": {
      "image/png": "[encoded data removed]",
      "text/plain": [
       "<Figure size 360x360 with 1 Axes>"
      ]
     },
     "metadata": {},
     "output_type": "display_data"
    }
   ],
   "source": [
    "sns.set()\n",
    "sns.relplot(x =\"clock\", y =\"temp\", data = df, kind = \"line\")\n",
    "plt.show()"
   ]
  },
  {
   "cell_type": "markdown",
   "execution_count": null,
   "metadata": {},
   "source": [
    "*Plot shows the variation of the temprature over the  course of the time *"
   ]
  },
  {
   "cell_type": "code",
   "execution_count": 9,
   "metadata": {},
   "outputs": [],
   "source": [
    "weather_top_five_condition =df.weather.value_counts().reset_index().sort_values(by =\"weather\" ,ascending = False)[0:5]"
   ]
  },
  {
   "cell_type": "code",
   "execution_count": 10,
   "metadata": {},
   "outputs": [],
   "source": [
    "condition = weather_top_five_condition[\"index\"]"
   ]
  },
  {
   "cell_type": "code",
   "execution_count": 11,
   "metadata": {},
   "outputs": [
    {
     "data": {
      "image/png": "[encoded data removed]",
      "text/plain": [
       "<Figure size 360x360 with 1 Axes>"
      ]
     },
     "metadata": {},
     "output_type": "display_data"
    }
   ],
   "source": [
    "sns.set()\n",
    "sns.catplot(y=\"index\", x =\"weather\", data = weather_top_five_condition, kind = \"bar\", palette=\"inferno\")\n",
    "plt.show()"
   ]
  },
  {
   "cell_type": "code",
   "execution_count": 12,
   "metadata": {},
   "outputs": [
    {
     "data": {
      "text/plain": [
       "clock             0\n",
       "temp             19\n",
       "weather           3\n",
       "wind             42\n",
       "humidity         21\n",
       "barometer        11\n",
       "visibility    32985\n",
       "year              0\n",
       "month             0\n",
       "day               0\n",
       "dtype: int64"
      ]
     },
     "execution_count": 12,
     "metadata": {},
     "output_type": "execute_result"
    }
   ],
   "source": [
    "df.isna().sum()"
   ]
  },
  {
   "cell_type": "code",
   "execution_count": 13,
   "metadata": {},
   "outputs": [],
   "source": [
    "df.drop(\"visibility\", axis = 1, inplace = True)"
   ]
  },
  {
   "cell_type": "code",
   "execution_count": 14,
   "metadata": {},
   "outputs": [
    {
     "data": {
      "text/html": [
       "<div>\n",
       "<style scoped>\n",
       "    .dataframe tbody tr th:only-of-type {\n",
       "        vertical-align: middle;\n",
       "    }\n",
       "\n",
       "    .dataframe tbody tr th {\n",
       "        vertical-align: top;\n",
       "    }\n",
       "\n",
       "    .dataframe thead th {\n",
       "        text-align: right;\n",
       "    }\n",
       "</style>\n",
       "<table border=\"1\" class=\"dataframe\">\n",
       "  <thead>\n",
       "    <tr style=\"text-align: right;\">\n",
       "      <th></th>\n",
       "      <th>clock</th>\n",
       "      <th>temp</th>\n",
       "      <th>weather</th>\n",
       "      <th>wind</th>\n",
       "      <th>humidity</th>\n",
       "      <th>barometer</th>\n",
       "      <th>year</th>\n",
       "      <th>month</th>\n",
       "      <th>day</th>\n",
       "    </tr>\n",
       "  </thead>\n",
       "  <tbody>\n",
       "    <tr>\n",
       "      <th>0</th>\n",
       "      <td>0.2</td>\n",
       "      <td>11.0</td>\n",
       "      <td>Mostly cloudy.</td>\n",
       "      <td>17.0</td>\n",
       "      <td>94.0</td>\n",
       "      <td>1011.0</td>\n",
       "      <td>2012</td>\n",
       "      <td>1</td>\n",
       "      <td>1</td>\n",
       "    </tr>\n",
       "    <tr>\n",
       "      <th>1</th>\n",
       "      <td>0.5</td>\n",
       "      <td>12.0</td>\n",
       "      <td>Mostly cloudy.</td>\n",
       "      <td>17.0</td>\n",
       "      <td>88.0</td>\n",
       "      <td>1011.0</td>\n",
       "      <td>2012</td>\n",
       "      <td>1</td>\n",
       "      <td>1</td>\n",
       "    </tr>\n",
       "    <tr>\n",
       "      <th>2</th>\n",
       "      <td>1.5</td>\n",
       "      <td>12.0</td>\n",
       "      <td>Overcast.</td>\n",
       "      <td>19.0</td>\n",
       "      <td>88.0</td>\n",
       "      <td>1011.0</td>\n",
       "      <td>2012</td>\n",
       "      <td>1</td>\n",
       "      <td>1</td>\n",
       "    </tr>\n",
       "    <tr>\n",
       "      <th>3</th>\n",
       "      <td>2.2</td>\n",
       "      <td>12.0</td>\n",
       "      <td>Partly cloudy.</td>\n",
       "      <td>17.0</td>\n",
       "      <td>88.0</td>\n",
       "      <td>1010.0</td>\n",
       "      <td>2012</td>\n",
       "      <td>1</td>\n",
       "      <td>1</td>\n",
       "    </tr>\n",
       "    <tr>\n",
       "      <th>4</th>\n",
       "      <td>2.5</td>\n",
       "      <td>12.0</td>\n",
       "      <td>Sprinkles. Mostly cloudy.</td>\n",
       "      <td>15.0</td>\n",
       "      <td>88.0</td>\n",
       "      <td>1010.0</td>\n",
       "      <td>2012</td>\n",
       "      <td>1</td>\n",
       "      <td>1</td>\n",
       "    </tr>\n",
       "  </tbody>\n",
       "</table>\n",
       "</div>"
      ],
      "text/plain": [
       "   clock  temp                    weather  wind  humidity  barometer  year  \\\n",
       "0    0.2  11.0             Mostly cloudy.  17.0      94.0     1011.0  2012   \n",
       "1    0.5  12.0             Mostly cloudy.  17.0      88.0     1011.0  2012   \n",
       "2    1.5  12.0                  Overcast.  19.0      88.0     1011.0  2012   \n",
       "3    2.2  12.0             Partly cloudy.  17.0      88.0     1010.0  2012   \n",
       "4    2.5  12.0  Sprinkles. Mostly cloudy.  15.0      88.0     1010.0  2012   \n",
       "\n",
       "   month  day  \n",
       "0      1    1  \n",
       "1      1    1  \n",
       "2      1    1  \n",
       "3      1    1  \n",
       "4      1    1  "
      ]
     },
     "execution_count": 14,
     "metadata": {},
     "output_type": "execute_result"
    }
   ],
   "source": [
    "df.head()"
   ]
  },
  {
   "cell_type": "code",
   "execution_count": 15,
   "metadata": {},
   "outputs": [],
   "source": [
    "# filling na values in the numerical variable\n",
    "df[[\"temp\", \"wind\", \"humidity\", \"barometer\"]] = df[[\"temp\", \"wind\", \"humidity\", \"barometer\"]].fillna(df.median())"
   ]
  },
  {
   "cell_type": "code",
   "execution_count": 16,
   "metadata": {},
   "outputs": [],
   "source": [
    "df[\"weather\"] = df[\"weather\"].fillna(\"Partly cloudy\")"
   ]
  },
  {
   "cell_type": "code",
   "execution_count": 17,
   "metadata": {},
   "outputs": [
    {
     "data": {
      "text/plain": [
       "clock        0\n",
       "temp         0\n",
       "weather      0\n",
       "wind         0\n",
       "humidity     0\n",
       "barometer    0\n",
       "year         0\n",
       "month        0\n",
       "day          0\n",
       "dtype: int64"
      ]
     },
     "execution_count": 17,
     "metadata": {},
     "output_type": "execute_result"
    }
   ],
   "source": [
    "df.isna().sum()"
   ]
  },
  {
   "cell_type": "code",
   "execution_count": 18,
   "metadata": {},
   "outputs": [
    {
     "data": {
      "image/png": "[encoded data removed]",
      "text/plain": [
       "<Figure size 432x288 with 1 Axes>"
      ]
     },
     "metadata": {},
     "output_type": "display_data"
    }
   ],
   "source": [
    "num_col = [\"temp\", \"wind\", \"humidity\", \"barometer\"]\n",
    "\n",
    "sns.set()\n",
    "sns.distplot(df[\"temp\"])\n",
    "plt.show()"
   ]
  },
  {
   "cell_type": "markdown",
   "execution_count": null,
   "metadata": {},
   "source": [
    "Not quite but it is normally distribured"
   ]
  },
  {
   "cell_type": "code",
   "execution_count": 19,
   "metadata": {},
   "outputs": [
    {
     "data": {
      "image/png": "[encoded data removed]",
      "text/plain": [
       "<Figure size 432x288 with 1 Axes>"
      ]
     },
     "metadata": {},
     "output_type": "display_data"
    },
    {
     "name": "stdout",
     "output_type": "stream",
     "text": [
      "0.796041232196916\n"
     ]
    }
   ],
   "source": [
    "sns.set()\n",
    "sns.distplot(df[\"wind\"])\n",
    "plt.show()\n",
    "print(df[\"wind\"].skew())"
   ]
  },
  {
   "cell_type": "code",
   "execution_count": 20,
   "metadata": {},
   "outputs": [
    {
     "data": {
      "image/png": "[encoded data removed]",
      "text/plain": [
       "<Figure size 432x288 with 1 Axes>"
      ]
     },
     "metadata": {},
     "output_type": "display_data"
    },
    {
     "name": "stdout",
     "output_type": "stream",
     "text": [
      "-0.8149167014110806\n"
     ]
    }
   ],
   "source": [
    "sns.set()\n",
    "sns.distplot(df[\"humidity\"])\n",
    "plt.show()\n",
    "print(df[\"humidity\"].skew())\n"
   ]
  },
  {
   "cell_type": "code",
   "execution_count": 21,
   "metadata": {},
   "outputs": [
    {
     "data": {
      "image/png": "[encoded data removed]",
      "text/plain": [
       "<Figure size 432x288 with 1 Axes>"
      ]
     },
     "metadata": {},
     "output_type": "display_data"
    },
    {
     "name": "stdout",
     "output_type": "stream",
     "text": [
      "-0.28875043024954816\n"
     ]
    }
   ],
   "source": [
    "sns.set()\n",
    "sns.distplot(df[\"barometer\"])\n",
    "plt.show()\n",
    "print(df[\"barometer\"].skew())"
   ]
  },
  {
   "cell_type": "code",
   "execution_count": 22,
   "metadata": {},
   "outputs": [
    {
     "data": {
      "text/plain": [
       "0      Passing clouds.\n",
       "1               Clear.\n",
       "2               Sunny.\n",
       "3                 Fog.\n",
       "4    Scattered clouds.\n",
       "Name: index, dtype: object"
      ]
     },
     "execution_count": 22,
     "metadata": {},
     "output_type": "execute_result"
    }
   ],
   "source": [
    "condition"
   ]
  },
  {
   "cell_type": "code",
   "execution_count": 23,
   "metadata": {},
   "outputs": [
    {
     "data": {
      "image/png": "[encoded data removed]",
      "text/plain": [
       "<Figure size 432x288 with 1 Axes>"
      ]
     },
     "metadata": {},
     "output_type": "display_data"
    },
    {
     "data": {
      "image/png": "[encoded data removed]",
      "text/plain": [
       "<Figure size 432x288 with 1 Axes>"
      ]
     },
     "metadata": {},
     "output_type": "display_data"
    },
    {
     "data": {
      "image/png": "[encoded data removed]",
      "text/plain": [
       "<Figure size 432x288 with 1 Axes>"
      ]
     },
     "metadata": {},
     "output_type": "display_data"
    },
    {
     "data": {
      "image/png": "[encoded data removed]",
      "text/plain": [
       "<Figure size 432x288 with 1 Axes>"
      ]
     },
     "metadata": {},
     "output_type": "display_data"
    }
   ],
   "source": [
    "for i in num_col:\n",
    "    sns.set()\n",
    "    sns.boxplot(df[i], palette=\"inferno\")\n",
    "    plt.show() "
   ]
  },
  {
   "cell_type": "code",
   "execution_count": null,
   "metadata": {},
   "outputs": [],
   "source": []
  },
  {
   "cell_type": "markdown",
   "execution_count": null,
   "metadata": {},
   "source": [
    "*I am Taking the  paleete color as INFERNO Because i like Playing Couter Strike Global Offensive*\n",
    "\n",
    "\n",
    "\n",
    "***UpVote it if you find it useful***"
   ]
  },
  {
   "cell_type": "code",
   "execution_count": null,
   "metadata": {},
   "outputs": [],
   "source": []
  }
 ],
 "metadata": {
  "kernelspec": {
   "display_name": "Python 3",
   "language": "python",
   "name": "python3"
  },
  "language_info": {
   "codemirror_mode": {
    "name": "ipython",
    "version": 3
   },
   "file_extension": ".py",
   "mimetype": "text/x-python",
   "name": "python",
   "nbconvert_exporter": "python",
   "pygments_lexer": "ipython3",
   "version": "3.7.6"
  }
 },
 "nbformat": 4,
 "nbformat_minor": 4
}
