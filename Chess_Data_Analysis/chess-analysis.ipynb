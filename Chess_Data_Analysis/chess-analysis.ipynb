{
 "cells": [
  {
   "cell_type": "code",
   "execution_count": 1,
   "metadata": {
    "_cell_guid": "b1076dfc-b9ad-4769-8c92-a6c4dae69d19",
    "_uuid": "8f2839f25d086af736a60e9eeb907d3b93b6e0e5"
   },
   "outputs": [],
   "source": [
    "import pandas as pd\n",
    "import numpy as np\n",
    "import matplotlib.pyplot as plt\n",
    "import seaborn as sns\n",
    "import warnings as ws\n",
    "ws.filterwarnings (\"ignore\")"
   ]
  },
  {
   "cell_type": "code",
   "execution_count": 2,
   "metadata": {
    "_cell_guid": "79c7e3d0-c299-4dcb-8224-4455121ee9b0",
    "_uuid": "d629ff2d2480ee46fbb7e2d37f6b5fab8052498a"
   },
   "outputs": [],
   "source": [
    "df = pd.read_csv(\"/kaggle/input/titled-chess-players-india-july-2020/indian_titled_players_july_2020.csv\")"
   ]
  },
  {
   "cell_type": "code",
   "execution_count": 3,
   "metadata": {},
   "outputs": [
    {
     "data": {
      "text/html": [
       "<div>\n",
       "<style scoped>\n",
       "    .dataframe tbody tr th:only-of-type {\n",
       "        vertical-align: middle;\n",
       "    }\n",
       "\n",
       "    .dataframe tbody tr th {\n",
       "        vertical-align: top;\n",
       "    }\n",
       "\n",
       "    .dataframe thead th {\n",
       "        text-align: right;\n",
       "    }\n",
       "</style>\n",
       "<table border=\"1\" class=\"dataframe\">\n",
       "  <thead>\n",
       "    <tr style=\"text-align: right;\">\n",
       "      <th></th>\n",
       "      <th>Fide id</th>\n",
       "      <th>Name</th>\n",
       "      <th>Year_of_birth</th>\n",
       "      <th>Gender</th>\n",
       "      <th>Federation</th>\n",
       "      <th>Title</th>\n",
       "      <th>Standard_Rating</th>\n",
       "      <th>Rapid_rating</th>\n",
       "      <th>Blitz_rating</th>\n",
       "    </tr>\n",
       "  </thead>\n",
       "  <tbody>\n",
       "    <tr>\n",
       "      <th>0</th>\n",
       "      <td>5000017</td>\n",
       "      <td>Anand  Viswanathan</td>\n",
       "      <td>1969</td>\n",
       "      <td>M</td>\n",
       "      <td>IND</td>\n",
       "      <td>GM</td>\n",
       "      <td>2753</td>\n",
       "      <td>2751</td>\n",
       "      <td>2785</td>\n",
       "    </tr>\n",
       "    <tr>\n",
       "      <th>1</th>\n",
       "      <td>5029465</td>\n",
       "      <td>Vidit  Santosh Gujrathi</td>\n",
       "      <td>1994</td>\n",
       "      <td>M</td>\n",
       "      <td>IND</td>\n",
       "      <td>GM</td>\n",
       "      <td>2726</td>\n",
       "      <td>2636</td>\n",
       "      <td>2735</td>\n",
       "    </tr>\n",
       "    <tr>\n",
       "      <th>2</th>\n",
       "      <td>5007003</td>\n",
       "      <td>Harikrishna  Pentala</td>\n",
       "      <td>1986</td>\n",
       "      <td>M</td>\n",
       "      <td>IND</td>\n",
       "      <td>GM</td>\n",
       "      <td>2719</td>\n",
       "      <td>2690</td>\n",
       "      <td>2663</td>\n",
       "    </tr>\n",
       "    <tr>\n",
       "      <th>3</th>\n",
       "      <td>5018471</td>\n",
       "      <td>Adhiban  B.</td>\n",
       "      <td>1992</td>\n",
       "      <td>M</td>\n",
       "      <td>IND</td>\n",
       "      <td>GM</td>\n",
       "      <td>2659</td>\n",
       "      <td>2624</td>\n",
       "      <td>2633</td>\n",
       "    </tr>\n",
       "    <tr>\n",
       "      <th>4</th>\n",
       "      <td>5004985</td>\n",
       "      <td>Sasikiran  Krishnan</td>\n",
       "      <td>1981</td>\n",
       "      <td>M</td>\n",
       "      <td>IND</td>\n",
       "      <td>GM</td>\n",
       "      <td>2647</td>\n",
       "      <td>2577</td>\n",
       "      <td>2552</td>\n",
       "    </tr>\n",
       "  </tbody>\n",
       "</table>\n",
       "</div>"
      ],
      "text/plain": [
       "   Fide id                     Name  Year_of_birth Gender Federation Title  \\\n",
       "0  5000017       Anand  Viswanathan           1969      M        IND    GM   \n",
       "1  5029465  Vidit  Santosh Gujrathi           1994      M        IND    GM   \n",
       "2  5007003     Harikrishna  Pentala           1986      M        IND    GM   \n",
       "3  5018471              Adhiban  B.           1992      M        IND    GM   \n",
       "4  5004985      Sasikiran  Krishnan           1981      M        IND    GM   \n",
       "\n",
       "   Standard_Rating  Rapid_rating  Blitz_rating  \n",
       "0             2753          2751          2785  \n",
       "1             2726          2636          2735  \n",
       "2             2719          2690          2663  \n",
       "3             2659          2624          2633  \n",
       "4             2647          2577          2552  "
      ]
     },
     "execution_count": 3,
     "metadata": {},
     "output_type": "execute_result"
    }
   ],
   "source": [
    "df.head()"
   ]
  },
  {
   "cell_type": "code",
   "execution_count": 4,
   "metadata": {},
   "outputs": [
    {
     "data": {
      "text/plain": [
       "Fide id            0\n",
       "Name               0\n",
       "Year_of_birth      0\n",
       "Gender             0\n",
       "Federation         0\n",
       "Title              0\n",
       "Standard_Rating    0\n",
       "Rapid_rating       0\n",
       "Blitz_rating       0\n",
       "dtype: int64"
      ]
     },
     "execution_count": 4,
     "metadata": {},
     "output_type": "execute_result"
    }
   ],
   "source": [
    "df.isna().sum()"
   ]
  },
  {
   "cell_type": "code",
   "execution_count": 5,
   "metadata": {},
   "outputs": [],
   "source": [
    "# clean column name \n",
    "def clean_name (name):\n",
    "    return  name.strip().lower().replace(\" \", \"_\")\n",
    "\n",
    "df.rename(columns=clean_name, inplace = True)"
   ]
  },
  {
   "cell_type": "code",
   "execution_count": 6,
   "metadata": {},
   "outputs": [
    {
     "data": {
      "image/png": "[encoded data removed]",
      "text/plain": [
       "<Figure size 432x288 with 1 Axes>"
      ]
     },
     "metadata": {},
     "output_type": "display_data"
    }
   ],
   "source": [
    "# Comparing the ratio of gender\n",
    "sns.set_style(\"white\")\n",
    "plt.title(\"The Indian Chess player ratio\")\n",
    "sns.countplot(df.gender.replace({\"M\":\"Male\", \"F\" : \"Female\"}))\n",
    "plt.show()"
   ]
  },
  {
   "cell_type": "code",
   "execution_count": 7,
   "metadata": {},
   "outputs": [
    {
     "data": {
      "text/html": [
       "<div>\n",
       "<style scoped>\n",
       "    .dataframe tbody tr th:only-of-type {\n",
       "        vertical-align: middle;\n",
       "    }\n",
       "\n",
       "    .dataframe tbody tr th {\n",
       "        vertical-align: top;\n",
       "    }\n",
       "\n",
       "    .dataframe thead th {\n",
       "        text-align: right;\n",
       "    }\n",
       "</style>\n",
       "<table border=\"1\" class=\"dataframe\">\n",
       "  <thead>\n",
       "    <tr style=\"text-align: right;\">\n",
       "      <th></th>\n",
       "      <th>fide_id</th>\n",
       "      <th>name</th>\n",
       "      <th>year_of_birth</th>\n",
       "      <th>gender</th>\n",
       "      <th>federation</th>\n",
       "      <th>title</th>\n",
       "      <th>standard_rating</th>\n",
       "      <th>rapid_rating</th>\n",
       "      <th>blitz_rating</th>\n",
       "    </tr>\n",
       "  </thead>\n",
       "  <tbody>\n",
       "    <tr>\n",
       "      <th>0</th>\n",
       "      <td>5000017</td>\n",
       "      <td>Anand  Viswanathan</td>\n",
       "      <td>1969</td>\n",
       "      <td>M</td>\n",
       "      <td>IND</td>\n",
       "      <td>GM</td>\n",
       "      <td>2753</td>\n",
       "      <td>2751</td>\n",
       "      <td>2785</td>\n",
       "    </tr>\n",
       "    <tr>\n",
       "      <th>1</th>\n",
       "      <td>5029465</td>\n",
       "      <td>Vidit  Santosh Gujrathi</td>\n",
       "      <td>1994</td>\n",
       "      <td>M</td>\n",
       "      <td>IND</td>\n",
       "      <td>GM</td>\n",
       "      <td>2726</td>\n",
       "      <td>2636</td>\n",
       "      <td>2735</td>\n",
       "    </tr>\n",
       "    <tr>\n",
       "      <th>2</th>\n",
       "      <td>5007003</td>\n",
       "      <td>Harikrishna  Pentala</td>\n",
       "      <td>1986</td>\n",
       "      <td>M</td>\n",
       "      <td>IND</td>\n",
       "      <td>GM</td>\n",
       "      <td>2719</td>\n",
       "      <td>2690</td>\n",
       "      <td>2663</td>\n",
       "    </tr>\n",
       "    <tr>\n",
       "      <th>3</th>\n",
       "      <td>5018471</td>\n",
       "      <td>Adhiban  B.</td>\n",
       "      <td>1992</td>\n",
       "      <td>M</td>\n",
       "      <td>IND</td>\n",
       "      <td>GM</td>\n",
       "      <td>2659</td>\n",
       "      <td>2624</td>\n",
       "      <td>2633</td>\n",
       "    </tr>\n",
       "    <tr>\n",
       "      <th>4</th>\n",
       "      <td>5004985</td>\n",
       "      <td>Sasikiran  Krishnan</td>\n",
       "      <td>1981</td>\n",
       "      <td>M</td>\n",
       "      <td>IND</td>\n",
       "      <td>GM</td>\n",
       "      <td>2647</td>\n",
       "      <td>2577</td>\n",
       "      <td>2552</td>\n",
       "    </tr>\n",
       "  </tbody>\n",
       "</table>\n",
       "</div>"
      ],
      "text/plain": [
       "   fide_id                     name  year_of_birth gender federation title  \\\n",
       "0  5000017       Anand  Viswanathan           1969      M        IND    GM   \n",
       "1  5029465  Vidit  Santosh Gujrathi           1994      M        IND    GM   \n",
       "2  5007003     Harikrishna  Pentala           1986      M        IND    GM   \n",
       "3  5018471              Adhiban  B.           1992      M        IND    GM   \n",
       "4  5004985      Sasikiran  Krishnan           1981      M        IND    GM   \n",
       "\n",
       "   standard_rating  rapid_rating  blitz_rating  \n",
       "0             2753          2751          2785  \n",
       "1             2726          2636          2735  \n",
       "2             2719          2690          2663  \n",
       "3             2659          2624          2633  \n",
       "4             2647          2577          2552  "
      ]
     },
     "execution_count": 7,
     "metadata": {},
     "output_type": "execute_result"
    }
   ],
   "source": [
    "df.head()"
   ]
  },
  {
   "cell_type": "code",
   "execution_count": 8,
   "metadata": {},
   "outputs": [
    {
     "data": {
      "text/plain": [
       "(424, 9)"
      ]
     },
     "execution_count": 8,
     "metadata": {},
     "output_type": "execute_result"
    }
   ],
   "source": [
    "df.shape"
   ]
  },
  {
   "cell_type": "code",
   "execution_count": 9,
   "metadata": {},
   "outputs": [
    {
     "data": {
      "image/png": "[encoded data removed]",
      "text/plain": [
       "<Figure size 432x288 with 1 Axes>"
      ]
     },
     "metadata": {},
     "output_type": "display_data"
    }
   ],
   "source": [
    "\n",
    "temp = df.title.value_counts().reset_index()\n",
    "plt.title(\"Title distribution of Chess player\")\n",
    "sns.set()\n",
    "sns.barplot(x = \"index\", y = \"title\", data = temp)\n",
    "plt.show()"
   ]
  },
  {
   "cell_type": "code",
   "execution_count": 10,
   "metadata": {},
   "outputs": [],
   "source": [
    "# average age of the chess player\n",
    "\n",
    "birth_year = df.year_of_birth.values"
   ]
  },
  {
   "cell_type": "code",
   "execution_count": 11,
   "metadata": {},
   "outputs": [],
   "source": [
    "age_value =  2020 - birth_year"
   ]
  },
  {
   "cell_type": "code",
   "execution_count": 12,
   "metadata": {},
   "outputs": [
    {
     "name": "stdout",
     "output_type": "stream",
     "text": [
      "Average age is  30.1 years\n"
     ]
    }
   ],
   "source": [
    "print(\"Average age is \", round(age_value.mean(), 2), \"years\")"
   ]
  },
  {
   "cell_type": "code",
   "execution_count": 13,
   "metadata": {},
   "outputs": [],
   "source": [
    "# Average rating as per title\n",
    "avg_rating_per_title = round(df.groupby(\"title\")[\"standard_rating\"].mean(), 2).reset_index()"
   ]
  },
  {
   "cell_type": "code",
   "execution_count": 14,
   "metadata": {},
   "outputs": [
    {
     "data": {
      "image/png": "[encoded data removed]",
      "text/plain": [
       "<Figure size 432x288 with 1 Axes>"
      ]
     },
     "metadata": {},
     "output_type": "display_data"
    }
   ],
   "source": [
    "plt.title(\"The average standered rating of the player as per title\")\n",
    "sns.barplot(x = \"title\", y=\"standard_rating\", data= avg_rating_per_title)\n",
    "plt.show()"
   ]
  },
  {
   "cell_type": "code",
   "execution_count": 15,
   "metadata": {},
   "outputs": [
    {
     "data": {
      "image/png": "[encoded data removed]",
      "text/plain": [
       "<Figure size 432x288 with 1 Axes>"
      ]
     },
     "metadata": {},
     "output_type": "display_data"
    }
   ],
   "source": [
    "avg_rapid_rating_per_title = round(df.groupby(\"title\")[\"rapid_rating\"].mean(), 2).reset_index()\n",
    "plt.title(\"The average Rapid rating of the player as per title\")\n",
    "sns.barplot(x = \"title\", y=\"rapid_rating\", data= avg_rapid_rating_per_title)\n",
    "plt.show()\n"
   ]
  },
  {
   "cell_type": "code",
   "execution_count": 16,
   "metadata": {},
   "outputs": [
    {
     "data": {
      "image/png": "[encoded data removed]",
      "text/plain": [
       "<Figure size 432x288 with 1 Axes>"
      ]
     },
     "metadata": {},
     "output_type": "display_data"
    }
   ],
   "source": [
    "avg_blitz_rating_per_title = round(df.groupby(\"title\")[\"blitz_rating\"].mean(), 2).reset_index()\n",
    "plt.title(\"The average Blitz rating of the player as per title\")\n",
    "sns.barplot(x = \"title\", y=\"blitz_rating\", data= avg_blitz_rating_per_title)\n",
    "plt.show()\n"
   ]
  },
  {
   "cell_type": "code",
   "execution_count": 17,
   "metadata": {},
   "outputs": [],
   "source": [
    "# Now performing the analysis of the grandmaster"
   ]
  },
  {
   "cell_type": "markdown",
   "execution_count": null,
   "metadata": {},
   "source": [
    "***As Expected the Grandmaseter has higher rating in all the aspects of the rating***"
   ]
  },
  {
   "cell_type": "code",
   "execution_count": 18,
   "metadata": {},
   "outputs": [
    {
     "name": "stdout",
     "output_type": "stream",
     "text": [
      "No. of grandmaster in india  66\n"
     ]
    }
   ],
   "source": [
    "temp = df[df[\"title\"] == \"GM\"][\"gender\"]\n",
    "print(\"No. of grandmaster in india \" , temp.count())"
   ]
  },
  {
   "cell_type": "code",
   "execution_count": 19,
   "metadata": {},
   "outputs": [
    {
     "data": {
      "image/png": "[encoded data removed]",
      "text/plain": [
       "<Figure size 432x288 with 1 Axes>"
      ]
     },
     "metadata": {},
     "output_type": "display_data"
    }
   ],
   "source": [
    "sns.countplot(temp)\n",
    "plt.show()"
   ]
  },
  {
   "cell_type": "markdown",
   "execution_count": null,
   "metadata": {},
   "source": [
    "***Upvote it if you find it useful***\n",
    ">  ** Vishy is my fav. player :>)** "
   ]
  },
  {
   "cell_type": "code",
   "execution_count": null,
   "metadata": {},
   "outputs": [],
   "source": []
  }
 ],
 "metadata": {
  "kernelspec": {
   "display_name": "Python 3",
   "language": "python",
   "name": "python3"
  },
  "language_info": {
   "codemirror_mode": {
    "name": "ipython",
    "version": 3
   },
   "file_extension": ".py",
   "mimetype": "text/x-python",
   "name": "python",
   "nbconvert_exporter": "python",
   "pygments_lexer": "ipython3",
   "version": "3.7.6"
  }
 },
 "nbformat": 4,
 "nbformat_minor": 4
}
